{
 "cells": [
  {
   "cell_type": "markdown",
   "metadata": {
    "id": "i_GcJlVrDgBk"
   },
   "source": [
    "Name: **Pranav Bhagwat**<br>\n",
    "Div: **BE-9**<br>\n",
    "Roll no: **43161**<br>\n",
    "Title: **Assignment 5: Implement the Continuous Bag of Words (CBOW) Model**<br>"
   ]
  },
  {
   "cell_type": "code",
   "execution_count": 2,
   "metadata": {
    "id": "V51q50EbF-T9"
   },
   "outputs": [],
   "source": [
    "#importing libraries\n",
    "from keras.preprocessing import text\n",
    "from keras.utils import np_utils\n",
    "from keras.preprocessing import sequence\n",
    "from keras.preprocessing.sequence import pad_sequences\n",
    "import numpy as np\n",
    "import pandas as pd"
   ]
  },
  {
   "cell_type": "code",
   "execution_count": 3,
   "metadata": {
    "id": "wBUwYdBJElVz"
   },
   "outputs": [],
   "source": [
    "#taking random sentences as data\n",
    "data = \"\"\"Deep learning (also known as deep structured learning) is part of a broader family of machine learning methods based on artificial neural networks with representation learning. Learning can be supervised, semi-supervised or unsupervised. \n",
    "Deep-learning architectures such as deep neural networks, deep belief networks, deep reinforcement learning, recurrent neural networks, convolutional neural networks and Transformers have been applied to fields including computer vision, speech recognition, natural language processing, machine translation, bioinformatics, drug design, medical image analysis, climate science, material inspection and board game programs, where they have produced results comparable to and in some cases surpassing human expert performance.\n",
    "\"\"\"\n",
    "dl_data = data.split()"
   ]
  },
  {
   "cell_type": "code",
   "execution_count": 4,
   "metadata": {},
   "outputs": [
    {
     "data": {
      "text/plain": [
       "['Deep',\n",
       " 'learning',\n",
       " '(also',\n",
       " 'known',\n",
       " 'as',\n",
       " 'deep',\n",
       " 'structured',\n",
       " 'learning)',\n",
       " 'is',\n",
       " 'part',\n",
       " 'of',\n",
       " 'a',\n",
       " 'broader',\n",
       " 'family',\n",
       " 'of',\n",
       " 'machine',\n",
       " 'learning',\n",
       " 'methods',\n",
       " 'based',\n",
       " 'on',\n",
       " 'artificial',\n",
       " 'neural',\n",
       " 'networks',\n",
       " 'with',\n",
       " 'representation',\n",
       " 'learning.',\n",
       " 'Learning',\n",
       " 'can',\n",
       " 'be',\n",
       " 'supervised,',\n",
       " 'semi-supervised',\n",
       " 'or',\n",
       " 'unsupervised.',\n",
       " 'Deep-learning',\n",
       " 'architectures',\n",
       " 'such',\n",
       " 'as',\n",
       " 'deep',\n",
       " 'neural',\n",
       " 'networks,',\n",
       " 'deep',\n",
       " 'belief',\n",
       " 'networks,',\n",
       " 'deep',\n",
       " 'reinforcement',\n",
       " 'learning,',\n",
       " 'recurrent',\n",
       " 'neural',\n",
       " 'networks,',\n",
       " 'convolutional',\n",
       " 'neural',\n",
       " 'networks',\n",
       " 'and',\n",
       " 'Transformers',\n",
       " 'have',\n",
       " 'been',\n",
       " 'applied',\n",
       " 'to',\n",
       " 'fields',\n",
       " 'including',\n",
       " 'computer',\n",
       " 'vision,',\n",
       " 'speech',\n",
       " 'recognition,',\n",
       " 'natural',\n",
       " 'language',\n",
       " 'processing,',\n",
       " 'machine',\n",
       " 'translation,',\n",
       " 'bioinformatics,',\n",
       " 'drug',\n",
       " 'design,',\n",
       " 'medical',\n",
       " 'image',\n",
       " 'analysis,',\n",
       " 'climate',\n",
       " 'science,',\n",
       " 'material',\n",
       " 'inspection',\n",
       " 'and',\n",
       " 'board',\n",
       " 'game',\n",
       " 'programs,',\n",
       " 'where',\n",
       " 'they',\n",
       " 'have',\n",
       " 'produced',\n",
       " 'results',\n",
       " 'comparable',\n",
       " 'to',\n",
       " 'and',\n",
       " 'in',\n",
       " 'some',\n",
       " 'cases',\n",
       " 'surpassing',\n",
       " 'human',\n",
       " 'expert',\n",
       " 'performance.']"
      ]
     },
     "execution_count": 4,
     "metadata": {},
     "output_type": "execute_result"
    }
   ],
   "source": [
    "dl_data"
   ]
  },
  {
   "cell_type": "code",
   "execution_count": 5,
   "metadata": {
    "colab": {
     "base_uri": "https://localhost:8080/"
    },
    "id": "celNk9LmEvm8",
    "outputId": "4e2143b6-92dc-452f-f468-7c9e6238e287"
   },
   "outputs": [
    {
     "name": "stdout",
     "output_type": "stream",
     "text": [
      "Vocabulary Size: 75\n",
      "Vocabulary Sample: [('learning', 1), ('deep', 2), ('networks', 3), ('neural', 4), ('and', 5), ('as', 6), ('of', 7), ('machine', 8), ('supervised', 9), ('have', 10)]\n"
     ]
    }
   ],
   "source": [
    "#tokenization\n",
    "tokenizer = text.Tokenizer()\n",
    "tokenizer.fit_on_texts(dl_data)\n",
    "word2id = tokenizer.word_index\n",
    "\n",
    "word2id['PAD'] = 0\n",
    "id2word = {v:k for k, v in word2id.items()}\n",
    "wids = [[word2id[w] for w in text.text_to_word_sequence(doc)] for doc in dl_data]\n",
    "\n",
    "vocab_size = len(word2id)\n",
    "embed_size = 100\n",
    "window_size = 2 \n",
    "\n",
    "print('Vocabulary Size:', vocab_size)\n",
    "print('Vocabulary Sample:', list(word2id.items())[:10])"
   ]
  },
  {
   "cell_type": "code",
   "execution_count": 6,
   "metadata": {
    "id": "AAxNYDanInQC"
   },
   "outputs": [],
   "source": [
    "#generating (context word, target/label word) pairs\n",
    "def generate_context_word_pairs(corpus, window_size, vocab_size):\n",
    "    context_length = window_size*2\n",
    "    for words in corpus:\n",
    "        sentence_length = len(words)\n",
    "        for index, word in enumerate(words):\n",
    "            context_words = []\n",
    "            label_word   = []            \n",
    "            start = index - window_size\n",
    "            end = index + window_size + 1\n",
    "            \n",
    "            context_words.append([words[i] \n",
    "                                 for i in range(start, end) \n",
    "                                 if 0 <= i < sentence_length \n",
    "                                 and i != index])\n",
    "            label_word.append(word)\n",
    "\n",
    "            x = pad_sequences(context_words, maxlen=context_length)\n",
    "            y = np_utils.to_categorical(label_word, vocab_size)\n",
    "            yield (x, y)\n",
    "            \n",
    "i = 0\n",
    "for x, y in generate_context_word_pairs(corpus=wids, window_size=window_size, vocab_size=vocab_size):\n",
    "    if 0 not in x[0]:\n",
    "        # print('Context (X):', [id2word[w] for w in x[0]], '-> Target (Y):', id2word[np.argwhere(y[0])[0][0]])\n",
    "    \n",
    "        if i == 10:\n",
    "            break\n",
    "        i += 1"
   ]
  },
  {
   "cell_type": "code",
   "execution_count": 7,
   "metadata": {
    "colab": {
     "base_uri": "https://localhost:8080/"
    },
    "id": "Rb5dNmoZKZBv",
    "outputId": "b859c07e-6989-420d-b169-8aa0b93ff367"
   },
   "outputs": [
    {
     "name": "stdout",
     "output_type": "stream",
     "text": [
      "Model: \"sequential\"\n",
      "_________________________________________________________________\n",
      "Layer (type)                 Output Shape              Param #   \n",
      "=================================================================\n",
      "embedding (Embedding)        (None, 4, 100)            7500      \n",
      "_________________________________________________________________\n",
      "lambda (Lambda)              (None, 100)               0         \n",
      "_________________________________________________________________\n",
      "dense (Dense)                (None, 75)                7575      \n",
      "=================================================================\n",
      "Total params: 15,075\n",
      "Trainable params: 15,075\n",
      "Non-trainable params: 0\n",
      "_________________________________________________________________\n",
      "None\n"
     ]
    }
   ],
   "source": [
    "#model building\n",
    "import keras.backend as K\n",
    "from keras.models import Sequential\n",
    "from keras.layers import Dense, Embedding, Lambda\n",
    "\n",
    "cbow = Sequential()\n",
    "cbow.add(Embedding(input_dim=vocab_size, output_dim=embed_size, input_length=window_size*2))\n",
    "cbow.add(Lambda(lambda x: K.mean(x, axis=1), output_shape=(embed_size,)))\n",
    "cbow.add(Dense(vocab_size, activation='softmax'))\n",
    "cbow.compile(loss='categorical_crossentropy', optimizer='rmsprop')\n",
    "\n",
    "print(cbow.summary())\n",
    "\n",
    "# from IPython.display import SVG\n",
    "# from keras.utils.vis_utils import model_to_dot\n",
    "\n",
    "# SVG(model_to_dot(cbow, show_shapes=True, show_layer_names=False, rankdir='TB').create(prog='dot', format='svg'))"
   ]
  },
  {
   "cell_type": "code",
   "execution_count": 8,
   "metadata": {
    "colab": {
     "base_uri": "https://localhost:8080/"
    },
    "id": "xs12C3MDK1q4",
    "outputId": "fe8783b3-0ee1-4286-be40-6713afa14f9c"
   },
   "outputs": [
    {
     "name": "stdout",
     "output_type": "stream",
     "text": [
      "Epoch: 1 \tLoss: 433.66469502449036\n",
      "\n",
      "Epoch: 2 \tLoss: 428.65322709083557\n",
      "\n",
      "Epoch: 3 \tLoss: 425.0849435329437\n",
      "\n",
      "Epoch: 4 \tLoss: 421.8628113269806\n",
      "\n",
      "Epoch: 5 \tLoss: 419.53119826316833\n",
      "\n"
     ]
    }
   ],
   "source": [
    "for epoch in range(1, 6):\n",
    "    loss = 0.\n",
    "    i = 0\n",
    "    for x, y in generate_context_word_pairs(corpus=wids, window_size=window_size, vocab_size=vocab_size):\n",
    "        i += 1\n",
    "        loss += cbow.train_on_batch(x, y)\n",
    "        if i % 100000 == 0:\n",
    "            print('Processed {} (context, word) pairs'.format(i))\n",
    "\n",
    "    print('Epoch:', epoch, '\\tLoss:', loss)\n",
    "    print()"
   ]
  },
  {
   "cell_type": "code",
   "execution_count": 9,
   "metadata": {
    "colab": {
     "base_uri": "https://localhost:8080/",
     "height": 253
    },
    "id": "TZ3_QGKVK6Tj",
    "outputId": "cd9d167a-85a3-4cc9-eccb-faf997526122"
   },
   "outputs": [
    {
     "name": "stdout",
     "output_type": "stream",
     "text": [
      "(74, 100)\n"
     ]
    },
    {
     "data": {
      "text/html": [
       "<div>\n",
       "<style scoped>\n",
       "    .dataframe tbody tr th:only-of-type {\n",
       "        vertical-align: middle;\n",
       "    }\n",
       "\n",
       "    .dataframe tbody tr th {\n",
       "        vertical-align: top;\n",
       "    }\n",
       "\n",
       "    .dataframe thead th {\n",
       "        text-align: right;\n",
       "    }\n",
       "</style>\n",
       "<table border=\"1\" class=\"dataframe\">\n",
       "  <thead>\n",
       "    <tr style=\"text-align: right;\">\n",
       "      <th></th>\n",
       "      <th>0</th>\n",
       "      <th>1</th>\n",
       "      <th>2</th>\n",
       "      <th>3</th>\n",
       "      <th>4</th>\n",
       "      <th>5</th>\n",
       "      <th>6</th>\n",
       "      <th>7</th>\n",
       "      <th>8</th>\n",
       "      <th>9</th>\n",
       "      <th>...</th>\n",
       "      <th>90</th>\n",
       "      <th>91</th>\n",
       "      <th>92</th>\n",
       "      <th>93</th>\n",
       "      <th>94</th>\n",
       "      <th>95</th>\n",
       "      <th>96</th>\n",
       "      <th>97</th>\n",
       "      <th>98</th>\n",
       "      <th>99</th>\n",
       "    </tr>\n",
       "  </thead>\n",
       "  <tbody>\n",
       "    <tr>\n",
       "      <th>deep</th>\n",
       "      <td>-0.030829</td>\n",
       "      <td>0.057311</td>\n",
       "      <td>-0.054094</td>\n",
       "      <td>0.036097</td>\n",
       "      <td>0.009418</td>\n",
       "      <td>-0.015365</td>\n",
       "      <td>-0.047589</td>\n",
       "      <td>0.000933</td>\n",
       "      <td>0.032222</td>\n",
       "      <td>-0.033904</td>\n",
       "      <td>...</td>\n",
       "      <td>0.001477</td>\n",
       "      <td>0.023165</td>\n",
       "      <td>-0.000979</td>\n",
       "      <td>0.005149</td>\n",
       "      <td>0.060412</td>\n",
       "      <td>0.043617</td>\n",
       "      <td>-0.060412</td>\n",
       "      <td>-0.004989</td>\n",
       "      <td>0.028167</td>\n",
       "      <td>-0.031081</td>\n",
       "    </tr>\n",
       "    <tr>\n",
       "      <th>networks</th>\n",
       "      <td>0.011113</td>\n",
       "      <td>0.006029</td>\n",
       "      <td>-0.041116</td>\n",
       "      <td>-0.060279</td>\n",
       "      <td>-0.046200</td>\n",
       "      <td>-0.015187</td>\n",
       "      <td>0.025729</td>\n",
       "      <td>0.003789</td>\n",
       "      <td>-0.001318</td>\n",
       "      <td>-0.046293</td>\n",
       "      <td>...</td>\n",
       "      <td>-0.011087</td>\n",
       "      <td>0.055135</td>\n",
       "      <td>-0.044276</td>\n",
       "      <td>-0.014142</td>\n",
       "      <td>-0.012076</td>\n",
       "      <td>0.051754</td>\n",
       "      <td>-0.063564</td>\n",
       "      <td>-0.016294</td>\n",
       "      <td>-0.054247</td>\n",
       "      <td>-0.051415</td>\n",
       "    </tr>\n",
       "    <tr>\n",
       "      <th>neural</th>\n",
       "      <td>0.003824</td>\n",
       "      <td>0.039844</td>\n",
       "      <td>-0.029943</td>\n",
       "      <td>-0.014061</td>\n",
       "      <td>0.030000</td>\n",
       "      <td>0.028274</td>\n",
       "      <td>-0.013332</td>\n",
       "      <td>0.021909</td>\n",
       "      <td>0.002368</td>\n",
       "      <td>-0.008980</td>\n",
       "      <td>...</td>\n",
       "      <td>-0.007081</td>\n",
       "      <td>-0.021345</td>\n",
       "      <td>0.034435</td>\n",
       "      <td>0.047346</td>\n",
       "      <td>-0.026097</td>\n",
       "      <td>0.015146</td>\n",
       "      <td>-0.045184</td>\n",
       "      <td>-0.027339</td>\n",
       "      <td>-0.032168</td>\n",
       "      <td>-0.004600</td>\n",
       "    </tr>\n",
       "    <tr>\n",
       "      <th>and</th>\n",
       "      <td>0.014435</td>\n",
       "      <td>-0.014025</td>\n",
       "      <td>0.034986</td>\n",
       "      <td>0.038413</td>\n",
       "      <td>-0.011329</td>\n",
       "      <td>-0.010182</td>\n",
       "      <td>0.013403</td>\n",
       "      <td>0.009367</td>\n",
       "      <td>0.022211</td>\n",
       "      <td>-0.027106</td>\n",
       "      <td>...</td>\n",
       "      <td>-0.030106</td>\n",
       "      <td>-0.010290</td>\n",
       "      <td>0.046515</td>\n",
       "      <td>-0.017163</td>\n",
       "      <td>0.045547</td>\n",
       "      <td>-0.019030</td>\n",
       "      <td>-0.016205</td>\n",
       "      <td>0.000508</td>\n",
       "      <td>-0.004742</td>\n",
       "      <td>0.010775</td>\n",
       "    </tr>\n",
       "    <tr>\n",
       "      <th>as</th>\n",
       "      <td>0.046663</td>\n",
       "      <td>-0.008323</td>\n",
       "      <td>-0.021720</td>\n",
       "      <td>0.030659</td>\n",
       "      <td>-0.047511</td>\n",
       "      <td>-0.025712</td>\n",
       "      <td>-0.024707</td>\n",
       "      <td>0.038238</td>\n",
       "      <td>-0.026829</td>\n",
       "      <td>-0.016780</td>\n",
       "      <td>...</td>\n",
       "      <td>0.031577</td>\n",
       "      <td>-0.031058</td>\n",
       "      <td>0.026363</td>\n",
       "      <td>-0.032717</td>\n",
       "      <td>-0.017596</td>\n",
       "      <td>-0.045309</td>\n",
       "      <td>-0.047227</td>\n",
       "      <td>0.049841</td>\n",
       "      <td>-0.008256</td>\n",
       "      <td>0.006245</td>\n",
       "    </tr>\n",
       "  </tbody>\n",
       "</table>\n",
       "<p>5 rows × 100 columns</p>\n",
       "</div>"
      ],
      "text/plain": [
       "                0         1         2         3         4         5   \\\n",
       "deep     -0.030829  0.057311 -0.054094  0.036097  0.009418 -0.015365   \n",
       "networks  0.011113  0.006029 -0.041116 -0.060279 -0.046200 -0.015187   \n",
       "neural    0.003824  0.039844 -0.029943 -0.014061  0.030000  0.028274   \n",
       "and       0.014435 -0.014025  0.034986  0.038413 -0.011329 -0.010182   \n",
       "as        0.046663 -0.008323 -0.021720  0.030659 -0.047511 -0.025712   \n",
       "\n",
       "                6         7         8         9   ...        90        91  \\\n",
       "deep     -0.047589  0.000933  0.032222 -0.033904  ...  0.001477  0.023165   \n",
       "networks  0.025729  0.003789 -0.001318 -0.046293  ... -0.011087  0.055135   \n",
       "neural   -0.013332  0.021909  0.002368 -0.008980  ... -0.007081 -0.021345   \n",
       "and       0.013403  0.009367  0.022211 -0.027106  ... -0.030106 -0.010290   \n",
       "as       -0.024707  0.038238 -0.026829 -0.016780  ...  0.031577 -0.031058   \n",
       "\n",
       "                92        93        94        95        96        97  \\\n",
       "deep     -0.000979  0.005149  0.060412  0.043617 -0.060412 -0.004989   \n",
       "networks -0.044276 -0.014142 -0.012076  0.051754 -0.063564 -0.016294   \n",
       "neural    0.034435  0.047346 -0.026097  0.015146 -0.045184 -0.027339   \n",
       "and       0.046515 -0.017163  0.045547 -0.019030 -0.016205  0.000508   \n",
       "as        0.026363 -0.032717 -0.017596 -0.045309 -0.047227  0.049841   \n",
       "\n",
       "                98        99  \n",
       "deep      0.028167 -0.031081  \n",
       "networks -0.054247 -0.051415  \n",
       "neural   -0.032168 -0.004600  \n",
       "and      -0.004742  0.010775  \n",
       "as       -0.008256  0.006245  \n",
       "\n",
       "[5 rows x 100 columns]"
      ]
     },
     "execution_count": 9,
     "metadata": {},
     "output_type": "execute_result"
    }
   ],
   "source": [
    "weights = cbow.get_weights()[0]\n",
    "weights = weights[1:]\n",
    "print(weights.shape)\n",
    "\n",
    "pd.DataFrame(weights, index=list(id2word.values())[1:]).head()"
   ]
  },
  {
   "cell_type": "code",
   "execution_count": 10,
   "metadata": {
    "colab": {
     "base_uri": "https://localhost:8080/"
    },
    "id": "UFs2IAn_LAYS",
    "outputId": "87ae1249-6a80-484f-b4a2-4d5f20734db7"
   },
   "outputs": [
    {
     "name": "stdout",
     "output_type": "stream",
     "text": [
      "(74, 74)\n"
     ]
    },
    {
     "data": {
      "text/plain": [
       "{'deep': ['medical', 'computer', 'speech', 'can', 'to']}"
      ]
     },
     "execution_count": 10,
     "metadata": {},
     "output_type": "execute_result"
    }
   ],
   "source": [
    "from sklearn.metrics.pairwise import euclidean_distances\n",
    "\n",
    "distance_matrix = euclidean_distances(weights)\n",
    "print(distance_matrix.shape)\n",
    "\n",
    "similar_words = {search_term: [id2word[idx] for idx in distance_matrix[word2id[search_term]-1].argsort()[1:6]+1] \n",
    "                   for search_term in ['deep']}\n",
    "\n",
    "similar_words"
   ]
  }
 ],
 "metadata": {
  "colab": {
   "collapsed_sections": [],
   "provenance": []
  },
  "kernelspec": {
   "display_name": "Python 3",
   "language": "python",
   "name": "python3"
  },
  "language_info": {
   "codemirror_mode": {
    "name": "ipython",
    "version": 3
   },
   "file_extension": ".py",
   "mimetype": "text/x-python",
   "name": "python",
   "nbconvert_exporter": "python",
   "pygments_lexer": "ipython3",
   "version": "3.8.8"
  }
 },
 "nbformat": 4,
 "nbformat_minor": 1
}
